{
 "cells": [
  {
   "cell_type": "code",
   "execution_count": 1,
   "metadata": {
    "focus": true,
    "id": "6e055466-80e3-4af9-a4b0-3ac2db3218ff"
   },
   "outputs": [],
   "source": [
    "using JuMP, Clp"
   ]
  },
  {
   "cell_type": "code",
   "execution_count": 2,
   "metadata": {
    "focus": false,
    "id": "5e731f8d-6edf-4e73-85ef-fc518b63c8bb"
   },
   "outputs": [
    {
     "data": {
      "text/plain": [
       "objective (generic function with 1 method)"
      ]
     },
     "execution_count": 2,
     "metadata": {},
     "output_type": "execute_result"
    }
   ],
   "source": [
    "function objective(u,d)\n",
    "    return Int(-u + 2*(min(d,u )))\n",
    "end"
   ]
  },
  {
   "cell_type": "code",
   "execution_count": 3,
   "metadata": {
    "focus": false,
    "id": "f8b68928-798d-4803-bafe-cb60cd96f5ac"
   },
   "outputs": [
    {
     "data": {
      "text/plain": [
       "10-element Array{Int64,1}:\n",
       "  6\n",
       "  7\n",
       "  8\n",
       "  9\n",
       " 10\n",
       " 11\n",
       " 12\n",
       " 13\n",
       " 14\n",
       " 15"
      ]
     },
     "execution_count": 3,
     "metadata": {},
     "output_type": "execute_result"
    }
   ],
   "source": [
    "value = [i for i in 6:15]"
   ]
  },
  {
   "cell_type": "markdown",
   "metadata": {},
   "source": [
    "Résolution dans le cas où d est connu à l'avance "
   ]
  },
  {
   "cell_type": "code",
   "execution_count": 4,
   "metadata": {},
   "outputs": [
    {
     "data": {
      "text/plain": [
       ":Optimal"
      ]
     },
     "execution_count": 4,
     "metadata": {},
     "output_type": "execute_result"
    }
   ],
   "source": [
    "m = Model()\n",
    "@variable(m, u[1:10] , Bin)\n",
    "d = rand([6,7,8,9,10,11,12,13,14,15])\n",
    "cost = [objective(i,d) for i in [6,7,8,9,10,11,12,13,14,15]]\n",
    "@objective(m, Max, dot(cost, u))\n",
    "@constraint(m, sum(u) <= 1)\n",
    "solve(m)"
   ]
  },
  {
   "cell_type": "markdown",
   "metadata": {},
   "source": [
    "Calcul de la valeur moyenne de l'optimum connu à l'avance soit \n",
    "$$inf \\mathbb{E}\\left(min_u -c u +2 (min(0, d-u))\\right) $$"
   ]
  },
  {
   "cell_type": "code",
   "execution_count": 36,
   "metadata": {
    "focus": false,
    "id": "92e28aa0-8a46-4f4e-b266-0c3c4ce37f71"
   },
   "outputs": [
    {
     "data": {
      "text/plain": [
       "100x10 Array{Float64,2}:\n",
       " 0.0  0.0  0.0  0.0  0.0  0.0  0.0  0.0  0.0  0.0\n",
       " 0.0  0.0  0.0  0.0  0.0  0.0  0.0  0.0  0.0  0.0\n",
       " 0.0  0.0  0.0  0.0  0.0  0.0  0.0  0.0  0.0  0.0\n",
       " 0.0  0.0  0.0  0.0  0.0  0.0  0.0  0.0  0.0  0.0\n",
       " 0.0  0.0  0.0  0.0  0.0  0.0  0.0  0.0  0.0  0.0\n",
       " 0.0  0.0  0.0  0.0  0.0  0.0  0.0  0.0  0.0  0.0\n",
       " 0.0  0.0  0.0  0.0  0.0  0.0  0.0  0.0  0.0  0.0\n",
       " 0.0  0.0  0.0  0.0  0.0  0.0  0.0  0.0  0.0  0.0\n",
       " 0.0  0.0  0.0  0.0  0.0  0.0  0.0  0.0  0.0  0.0\n",
       " 0.0  0.0  0.0  0.0  0.0  0.0  0.0  0.0  0.0  0.0\n",
       " 0.0  0.0  0.0  0.0  0.0  0.0  0.0  0.0  0.0  0.0\n",
       " 0.0  0.0  0.0  0.0  0.0  0.0  0.0  0.0  0.0  0.0\n",
       " 0.0  0.0  0.0  0.0  0.0  0.0  0.0  0.0  0.0  0.0\n",
       " ⋮                        ⋮                      \n",
       " 0.0  0.0  0.0  0.0  0.0  0.0  0.0  0.0  0.0  0.0\n",
       " 0.0  0.0  0.0  0.0  0.0  0.0  0.0  0.0  0.0  0.0\n",
       " 0.0  0.0  0.0  0.0  0.0  0.0  0.0  0.0  0.0  0.0\n",
       " 0.0  0.0  0.0  0.0  0.0  0.0  0.0  0.0  0.0  0.0\n",
       " 0.0  0.0  0.0  0.0  0.0  0.0  0.0  0.0  0.0  0.0\n",
       " 0.0  0.0  0.0  0.0  0.0  0.0  0.0  0.0  0.0  0.0\n",
       " 0.0  0.0  0.0  0.0  0.0  0.0  0.0  0.0  0.0  0.0\n",
       " 0.0  0.0  0.0  0.0  0.0  0.0  0.0  0.0  0.0  0.0\n",
       " 0.0  0.0  0.0  0.0  0.0  0.0  0.0  0.0  0.0  0.0\n",
       " 0.0  0.0  0.0  0.0  0.0  0.0  0.0  0.0  0.0  0.0\n",
       " 0.0  0.0  0.0  0.0  0.0  0.0  0.0  0.0  0.0  0.0\n",
       " 0.0  0.0  0.0  0.0  0.0  0.0  0.0  0.0  0.0  0.0"
      ]
     },
     "execution_count": 36,
     "metadata": {},
     "output_type": "execute_result"
    }
   ],
   "source": [
    "valeurs_successives = Array{Int}(1000)\n",
    "A = zeros(100, 10)\n",
    "\n",
    "    "
   ]
  },
  {
   "cell_type": "code",
   "execution_count": 37,
   "metadata": {},
   "outputs": [],
   "source": [
    "for j in 1:100\n",
    "    d = rand([6,7,8,9,10,11,12,13,14,15])\n",
    "    for i in 1:10\n",
    "    A[j, i] =  objective(i+5,d)\n",
    "    end\n",
    "end"
   ]
  },
  {
   "cell_type": "code",
   "execution_count": 38,
   "metadata": {},
   "outputs": [
    {
     "data": {
      "text/plain": [
       "100x10 Array{Float64,2}:\n",
       " 6.0  7.0  6.0  5.0   4.0   3.0   2.0   1.0   0.0  -1.0\n",
       " 6.0  7.0  6.0  5.0   4.0   3.0   2.0   1.0   0.0  -1.0\n",
       " 6.0  5.0  4.0  3.0   2.0   1.0   0.0  -1.0  -2.0  -3.0\n",
       " 6.0  7.0  8.0  9.0   8.0   7.0   6.0   5.0   4.0   3.0\n",
       " 6.0  7.0  6.0  5.0   4.0   3.0   2.0   1.0   0.0  -1.0\n",
       " 6.0  7.0  8.0  9.0  10.0  11.0  12.0  13.0  12.0  11.0\n",
       " 6.0  7.0  8.0  9.0   8.0   7.0   6.0   5.0   4.0   3.0\n",
       " 6.0  5.0  4.0  3.0   2.0   1.0   0.0  -1.0  -2.0  -3.0\n",
       " 6.0  7.0  8.0  7.0   6.0   5.0   4.0   3.0   2.0   1.0\n",
       " 6.0  7.0  8.0  9.0  10.0  11.0  12.0  11.0  10.0   9.0\n",
       " 6.0  7.0  8.0  9.0  10.0  11.0  12.0  13.0  12.0  11.0\n",
       " 6.0  7.0  8.0  9.0  10.0   9.0   8.0   7.0   6.0   5.0\n",
       " 6.0  7.0  8.0  7.0   6.0   5.0   4.0   3.0   2.0   1.0\n",
       " ⋮                          ⋮                          \n",
       " 6.0  7.0  8.0  7.0   6.0   5.0   4.0   3.0   2.0   1.0\n",
       " 6.0  7.0  8.0  7.0   6.0   5.0   4.0   3.0   2.0   1.0\n",
       " 6.0  7.0  8.0  9.0   8.0   7.0   6.0   5.0   4.0   3.0\n",
       " 6.0  7.0  6.0  5.0   4.0   3.0   2.0   1.0   0.0  -1.0\n",
       " 6.0  7.0  8.0  9.0   8.0   7.0   6.0   5.0   4.0   3.0\n",
       " 6.0  7.0  8.0  9.0  10.0  11.0  12.0  11.0  10.0   9.0\n",
       " 6.0  7.0  8.0  9.0  10.0  11.0  12.0  13.0  12.0  11.0\n",
       " 6.0  7.0  8.0  7.0   6.0   5.0   4.0   3.0   2.0   1.0\n",
       " 6.0  7.0  8.0  7.0   6.0   5.0   4.0   3.0   2.0   1.0\n",
       " 6.0  7.0  8.0  9.0  10.0  11.0  12.0  11.0  10.0   9.0\n",
       " 6.0  7.0  8.0  9.0  10.0   9.0   8.0   7.0   6.0   5.0\n",
       " 6.0  7.0  8.0  9.0  10.0  11.0  12.0  13.0  14.0  13.0"
      ]
     },
     "execution_count": 38,
     "metadata": {},
     "output_type": "execute_result"
    }
   ],
   "source": [
    "A"
   ]
  },
  {
   "cell_type": "code",
   "execution_count": 39,
   "metadata": {},
   "outputs": [
    {
     "data": {
      "text/plain": [
       ":Optimal"
      ]
     },
     "execution_count": 39,
     "metadata": {},
     "output_type": "execute_result"
    }
   ],
   "source": [
    "m = Model()\n",
    "@variable(m, u[1:10] , Bin)\n",
    "@objective(m, Max, sum(A* u))\n",
    "@constraint(m, sum(u) <= 1)\n",
    "solve(m)\n"
   ]
  },
  {
   "cell_type": "code",
   "execution_count": 40,
   "metadata": {
    "focus": false,
    "id": "f09f09a9-50e1-480a-93b8-f4d618a760c6"
   },
   "outputs": [
    {
     "data": {
      "text/plain": [
       "10.0"
      ]
     },
     "execution_count": 40,
     "metadata": {},
     "output_type": "execute_result"
    }
   ],
   "source": [
    "getvalue(dot(value,u))"
   ]
  },
  {
   "cell_type": "markdown",
   "metadata": {
    "focus": false,
    "id": "c7df4aab-cd19-450e-85c8-a1fc9254a652"
   },
   "source": [
    "Maintenant interressons nous au meilleur cas en moyenne, c'est à dire à $$\\mathbb{E}(inf ) $$ c'est à dire à l'optimum sans connaissance à priori de la demande en journaux."
   ]
  },
  {
   "cell_type": "code",
   "execution_count": null,
   "metadata": {
    "scrolled": true
   },
   "outputs": [],
   "source": [
    "m = Model()\n",
    "@variable(m, u[1:10] , Bin)\n",
    "for i in 1:1000\n",
    "    d = rand([6,7,8,9,10,11,12,13,14,15])\n",
    "    cost = [objective(i,d) for i in [6,7,8,9,10,11,12,13,14,15]]\n",
    "    @objective(m, Max, dot(cost, u))\n",
    "    @constraint(m, sum(u) <= 1)\n",
    "    solve(m)\n",
    "    valeurs_successives[i] = dot(value, getvalue(u))\n",
    "end\n",
    "print(sum(valeurs_successives)/1000)"
   ]
  },
  {
   "cell_type": "code",
   "execution_count": null,
   "metadata": {},
   "outputs": [],
   "source": [
    "sum(valeurs_successives)/100"
   ]
  },
  {
   "cell_type": "code",
   "execution_count": null,
   "metadata": {
    "focus": false,
    "id": "208cdf8b-b9f4-4c9c-9690-c7835f468369"
   },
   "outputs": [],
   "source": [
    "\n",
    "for i in 1:10\n",
    "    println(\"u[$i] = \", getvalue(u[i]))\n",
    "end"
   ]
  },
  {
   "cell_type": "code",
   "execution_count": null,
   "metadata": {
    "focus": false,
    "id": "8f21990d-a276-41e5-83d0-4bb51d0bdb7d"
   },
   "outputs": [],
   "source": [
    "d"
   ]
  },
  {
   "cell_type": "code",
   "execution_count": null,
   "metadata": {
    "collapsed": true,
    "focus": false,
    "id": "438294bd-5c01-4d79-b9f7-3dcb7689a7ff"
   },
   "outputs": [],
   "source": []
  }
 ],
 "metadata": {
  "anaconda-cloud": {},
  "kernelspec": {
   "display_name": "Julia 0.4.5",
   "language": "julia",
   "name": "julia-0.4"
  },
  "language_info": {
   "file_extension": ".jl",
   "mimetype": "application/julia",
   "name": "julia",
   "version": "0.4.5"
  }
 },
 "nbformat": 4,
 "nbformat_minor": 1
}
